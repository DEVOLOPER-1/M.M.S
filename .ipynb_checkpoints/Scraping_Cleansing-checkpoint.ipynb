{
 "cells": [
  {
   "cell_type": "markdown",
   "id": "779ee71d-1f0a-40fd-b45b-7bf31fb3de93",
   "metadata": {},
   "source": [
    "## Scrapping Dataset"
   ]
  },
  {
   "cell_type": "code",
   "execution_count": 5,
   "id": "d292adfa-15cd-483d-af5b-7463512a3881",
   "metadata": {},
   "outputs": [],
   "source": [
    "import json"
   ]
  },
  {
   "cell_type": "code",
   "execution_count": 2,
   "id": "b73ed02b-3257-46ce-9f06-5a71143bcb8e",
   "metadata": {},
   "outputs": [],
   "source": [
    "import kagglehub\n"
   ]
  },
  {
   "cell_type": "code",
   "execution_count": null,
   "id": "0319a691-ee82-496a-bbc0-adae56a0488e",
   "metadata": {},
   "outputs": [],
   "source": [
    "kagglehub.dataset_download('rounakbanik/the-movies-dataset' , path = \"movies_metadata.csv\")\n",
    "\n"
   ]
  },
  {
   "cell_type": "markdown",
   "id": "3ea4a053-1e74-426c-8d26-c6efd6834f3c",
   "metadata": {},
   "source": [
    "## Reading Dataset"
   ]
  },
  {
   "cell_type": "code",
   "execution_count": 1,
   "id": "bfb18b70-4409-4b9a-aeb6-cf96e03de90e",
   "metadata": {},
   "outputs": [],
   "source": [
    "import pandas as pd"
   ]
  },
  {
   "cell_type": "code",
   "execution_count": 2,
   "id": "88c8f2cf-2153-47a9-bc4a-e155546bfc92",
   "metadata": {},
   "outputs": [],
   "source": [
    "df = pd.read_csv(r\".\\datasets\\movies_metadata.csv\" , low_memory=False , index_col = \"imdb_id\")"
   ]
  },
  {
   "cell_type": "markdown",
   "id": "a1683b24-c29e-4be3-8a2a-1769c80bd62d",
   "metadata": {},
   "source": [
    "## A Glimpse On the Data"
   ]
  },
  {
   "cell_type": "code",
   "execution_count": 22,
   "id": "b4e397b8-393a-42ab-b7aa-8de40de8c22b",
   "metadata": {},
   "outputs": [
    {
     "data": {
      "text/html": [
       "<div>\n",
       "<style scoped>\n",
       "    .dataframe tbody tr th:only-of-type {\n",
       "        vertical-align: middle;\n",
       "    }\n",
       "\n",
       "    .dataframe tbody tr th {\n",
       "        vertical-align: top;\n",
       "    }\n",
       "\n",
       "    .dataframe thead th {\n",
       "        text-align: right;\n",
       "    }\n",
       "</style>\n",
       "<table border=\"1\" class=\"dataframe\">\n",
       "  <thead>\n",
       "    <tr style=\"text-align: right;\">\n",
       "      <th></th>\n",
       "      <th>adult</th>\n",
       "      <th>belongs_to_collection</th>\n",
       "      <th>genres</th>\n",
       "      <th>homepage</th>\n",
       "      <th>original_title</th>\n",
       "      <th>overview</th>\n",
       "      <th>popularity</th>\n",
       "      <th>poster_path</th>\n",
       "      <th>production_companies</th>\n",
       "      <th>production_countries</th>\n",
       "      <th>release_date</th>\n",
       "      <th>spoken_languages</th>\n",
       "      <th>status</th>\n",
       "      <th>tagline</th>\n",
       "      <th>vote_average</th>\n",
       "    </tr>\n",
       "    <tr>\n",
       "      <th>imdb_id</th>\n",
       "      <th></th>\n",
       "      <th></th>\n",
       "      <th></th>\n",
       "      <th></th>\n",
       "      <th></th>\n",
       "      <th></th>\n",
       "      <th></th>\n",
       "      <th></th>\n",
       "      <th></th>\n",
       "      <th></th>\n",
       "      <th></th>\n",
       "      <th></th>\n",
       "      <th></th>\n",
       "      <th></th>\n",
       "      <th></th>\n",
       "    </tr>\n",
       "  </thead>\n",
       "  <tbody>\n",
       "    <tr>\n",
       "      <th>tt0114709</th>\n",
       "      <td>False</td>\n",
       "      <td>Toy Story Collection</td>\n",
       "      <td>Animation,Comedy,Family</td>\n",
       "      <td>http://toystory.disney.com/toy-story</td>\n",
       "      <td>Toy Story</td>\n",
       "      <td>Led by Woody, Andy's toys live happily in his ...</td>\n",
       "      <td>21.946943</td>\n",
       "      <td>/rhIRbceoE9lR4veEXuwCC2wARtG.jpg</td>\n",
       "      <td>Pixar Animation Studios</td>\n",
       "      <td>US</td>\n",
       "      <td>1995-10-30</td>\n",
       "      <td>en</td>\n",
       "      <td>Released</td>\n",
       "      <td>NaN</td>\n",
       "      <td>7.7</td>\n",
       "    </tr>\n",
       "    <tr>\n",
       "      <th>tt0113497</th>\n",
       "      <td>False</td>\n",
       "      <td>NaN</td>\n",
       "      <td>Adventure,Fantasy,Family</td>\n",
       "      <td>NaN</td>\n",
       "      <td>Jumanji</td>\n",
       "      <td>When siblings Judy and Peter discover an encha...</td>\n",
       "      <td>17.015539</td>\n",
       "      <td>/vzmL6fP7aPKNKPRTFnZmiUfciyV.jpg</td>\n",
       "      <td>TriStar Pictures,Teitler Film,Interscope Commu...</td>\n",
       "      <td>US</td>\n",
       "      <td>1995-12-15</td>\n",
       "      <td>en,fr</td>\n",
       "      <td>Released</td>\n",
       "      <td>Roll the dice and unleash the excitement!</td>\n",
       "      <td>6.9</td>\n",
       "    </tr>\n",
       "    <tr>\n",
       "      <th>tt0113228</th>\n",
       "      <td>False</td>\n",
       "      <td>Grumpy Old Men Collection</td>\n",
       "      <td>Romance,Comedy</td>\n",
       "      <td>NaN</td>\n",
       "      <td>Grumpier Old Men</td>\n",
       "      <td>A family wedding reignites the ancient feud be...</td>\n",
       "      <td>11.7129</td>\n",
       "      <td>/6ksm1sjKMFLbO7UY2i6G1ju9SML.jpg</td>\n",
       "      <td>Warner Bros.,Lancaster Gate</td>\n",
       "      <td>US</td>\n",
       "      <td>1995-12-22</td>\n",
       "      <td>en</td>\n",
       "      <td>Released</td>\n",
       "      <td>Still Yelling. Still Fighting. Still Ready for...</td>\n",
       "      <td>6.5</td>\n",
       "    </tr>\n",
       "    <tr>\n",
       "      <th>tt0114885</th>\n",
       "      <td>False</td>\n",
       "      <td>NaN</td>\n",
       "      <td>Comedy,Drama,Romance</td>\n",
       "      <td>NaN</td>\n",
       "      <td>Waiting to Exhale</td>\n",
       "      <td>Cheated on, mistreated and stepped on, the wom...</td>\n",
       "      <td>3.859495</td>\n",
       "      <td>/16XOMpEaLWkrcPqSQqhTmeJuqQl.jpg</td>\n",
       "      <td>Twentieth Century Fox Film Corporation</td>\n",
       "      <td>US</td>\n",
       "      <td>1995-12-22</td>\n",
       "      <td>en</td>\n",
       "      <td>Released</td>\n",
       "      <td>Friends are the people who let you be yourself...</td>\n",
       "      <td>6.1</td>\n",
       "    </tr>\n",
       "    <tr>\n",
       "      <th>tt0113041</th>\n",
       "      <td>False</td>\n",
       "      <td>Father of the Bride Collection</td>\n",
       "      <td>Comedy</td>\n",
       "      <td>NaN</td>\n",
       "      <td>Father of the Bride Part II</td>\n",
       "      <td>Just when George Banks has recovered from his ...</td>\n",
       "      <td>8.387519</td>\n",
       "      <td>/e64sOI48hQXyru7naBFyssKFxVd.jpg</td>\n",
       "      <td>Sandollar Productions,Touchstone Pictures</td>\n",
       "      <td>US</td>\n",
       "      <td>1995-02-10</td>\n",
       "      <td>en</td>\n",
       "      <td>Released</td>\n",
       "      <td>Just When His World Is Back To Normal... He's ...</td>\n",
       "      <td>5.7</td>\n",
       "    </tr>\n",
       "  </tbody>\n",
       "</table>\n",
       "</div>"
      ],
      "text/plain": [
       "           adult           belongs_to_collection                    genres  \\\n",
       "imdb_id                                                                      \n",
       "tt0114709  False            Toy Story Collection   Animation,Comedy,Family   \n",
       "tt0113497  False                             NaN  Adventure,Fantasy,Family   \n",
       "tt0113228  False       Grumpy Old Men Collection            Romance,Comedy   \n",
       "tt0114885  False                             NaN      Comedy,Drama,Romance   \n",
       "tt0113041  False  Father of the Bride Collection                    Comedy   \n",
       "\n",
       "                                       homepage               original_title  \\\n",
       "imdb_id                                                                        \n",
       "tt0114709  http://toystory.disney.com/toy-story                    Toy Story   \n",
       "tt0113497                                   NaN                      Jumanji   \n",
       "tt0113228                                   NaN             Grumpier Old Men   \n",
       "tt0114885                                   NaN            Waiting to Exhale   \n",
       "tt0113041                                   NaN  Father of the Bride Part II   \n",
       "\n",
       "                                                    overview popularity  \\\n",
       "imdb_id                                                                   \n",
       "tt0114709  Led by Woody, Andy's toys live happily in his ...  21.946943   \n",
       "tt0113497  When siblings Judy and Peter discover an encha...  17.015539   \n",
       "tt0113228  A family wedding reignites the ancient feud be...    11.7129   \n",
       "tt0114885  Cheated on, mistreated and stepped on, the wom...   3.859495   \n",
       "tt0113041  Just when George Banks has recovered from his ...   8.387519   \n",
       "\n",
       "                                poster_path  \\\n",
       "imdb_id                                       \n",
       "tt0114709  /rhIRbceoE9lR4veEXuwCC2wARtG.jpg   \n",
       "tt0113497  /vzmL6fP7aPKNKPRTFnZmiUfciyV.jpg   \n",
       "tt0113228  /6ksm1sjKMFLbO7UY2i6G1ju9SML.jpg   \n",
       "tt0114885  /16XOMpEaLWkrcPqSQqhTmeJuqQl.jpg   \n",
       "tt0113041  /e64sOI48hQXyru7naBFyssKFxVd.jpg   \n",
       "\n",
       "                                        production_companies  \\\n",
       "imdb_id                                                        \n",
       "tt0114709                            Pixar Animation Studios   \n",
       "tt0113497  TriStar Pictures,Teitler Film,Interscope Commu...   \n",
       "tt0113228                        Warner Bros.,Lancaster Gate   \n",
       "tt0114885             Twentieth Century Fox Film Corporation   \n",
       "tt0113041          Sandollar Productions,Touchstone Pictures   \n",
       "\n",
       "          production_countries release_date spoken_languages    status  \\\n",
       "imdb_id                                                                  \n",
       "tt0114709                   US   1995-10-30               en  Released   \n",
       "tt0113497                   US   1995-12-15            en,fr  Released   \n",
       "tt0113228                   US   1995-12-22               en  Released   \n",
       "tt0114885                   US   1995-12-22               en  Released   \n",
       "tt0113041                   US   1995-02-10               en  Released   \n",
       "\n",
       "                                                     tagline  vote_average  \n",
       "imdb_id                                                                     \n",
       "tt0114709                                                NaN           7.7  \n",
       "tt0113497          Roll the dice and unleash the excitement!           6.9  \n",
       "tt0113228  Still Yelling. Still Fighting. Still Ready for...           6.5  \n",
       "tt0114885  Friends are the people who let you be yourself...           6.1  \n",
       "tt0113041  Just When His World Is Back To Normal... He's ...           5.7  "
      ]
     },
     "execution_count": 22,
     "metadata": {},
     "output_type": "execute_result"
    }
   ],
   "source": [
    "df.head()\n"
   ]
  },
  {
   "cell_type": "code",
   "execution_count": 16,
   "id": "b031de8a-8ecb-4c25-a0f8-732f3931b61f",
   "metadata": {},
   "outputs": [
    {
     "data": {
      "text/plain": [
       "(45449, 15)"
      ]
     },
     "execution_count": 16,
     "metadata": {},
     "output_type": "execute_result"
    }
   ],
   "source": [
    "df.shape"
   ]
  },
  {
   "cell_type": "code",
   "execution_count": 15,
   "id": "ba2fe827-51cd-4542-b678-b4c46bf16771",
   "metadata": {},
   "outputs": [
    {
     "name": "stdout",
     "output_type": "stream",
     "text": [
      "<class 'pandas.core.frame.DataFrame'>\n",
      "Index: 45449 entries, tt0114709 to tt6980792\n",
      "Data columns (total 15 columns):\n",
      " #   Column                 Non-Null Count  Dtype  \n",
      "---  ------                 --------------  -----  \n",
      " 0   adult                  45449 non-null  object \n",
      " 1   belongs_to_collection  4508 non-null   object \n",
      " 2   genres                 45449 non-null  object \n",
      " 3   homepage               7780 non-null   object \n",
      " 4   original_title         45449 non-null  object \n",
      " 5   overview               44495 non-null  object \n",
      " 6   popularity             45444 non-null  object \n",
      " 7   poster_path            45063 non-null  object \n",
      " 8   production_companies   45446 non-null  object \n",
      " 9   production_countries   45446 non-null  object \n",
      " 10  release_date           45362 non-null  object \n",
      " 11  spoken_languages       45443 non-null  object \n",
      " 12  status                 45362 non-null  object \n",
      " 13  tagline                20407 non-null  object \n",
      " 14  vote_average           45443 non-null  float64\n",
      "dtypes: float64(1), object(14)\n",
      "memory usage: 6.6+ MB\n"
     ]
    }
   ],
   "source": [
    "df.info()"
   ]
  },
  {
   "cell_type": "code",
   "execution_count": 33,
   "id": "3a1f4ece",
   "metadata": {},
   "outputs": [
    {
     "data": {
      "text/plain": [
       "adult                        0\n",
       "belongs_to_collection    40941\n",
       "genres                       0\n",
       "homepage                 37669\n",
       "original_title               0\n",
       "overview                   954\n",
       "popularity                   5\n",
       "poster_path                386\n",
       "production_companies         3\n",
       "production_countries         3\n",
       "release_date                87\n",
       "spoken_languages             6\n",
       "status                      87\n",
       "tagline                  25042\n",
       "vote_average                 6\n",
       "image_url                  386\n",
       "idmb_url                     0\n",
       "dtype: int64"
      ]
     },
     "execution_count": 33,
     "metadata": {},
     "output_type": "execute_result"
    }
   ],
   "source": [
    "df.isna().sum()"
   ]
  },
  {
   "cell_type": "code",
   "execution_count": 17,
   "id": "863f8cf5",
   "metadata": {},
   "outputs": [
    {
     "data": {
      "text/plain": [
       "Index(['adult', 'belongs_to_collection', 'genres', 'homepage',\n",
       "       'original_title', 'overview', 'popularity', 'poster_path',\n",
       "       'production_companies', 'production_countries', 'release_date',\n",
       "       'spoken_languages', 'status', 'tagline', 'vote_average'],\n",
       "      dtype='object')"
      ]
     },
     "execution_count": 17,
     "metadata": {},
     "output_type": "execute_result"
    }
   ],
   "source": [
    "df.columns"
   ]
  },
  {
   "cell_type": "markdown",
   "id": "01994976-eaeb-4290-9999-21e0b753d78a",
   "metadata": {},
   "source": [
    "## Custom Review to random records"
   ]
  },
  {
   "cell_type": "code",
   "execution_count": 4,
   "id": "d9dc6cce",
   "metadata": {},
   "outputs": [
    {
     "name": "stderr",
     "output_type": "stream",
     "text": [
      "C:\\Users\\youss\\AppData\\Local\\Temp\\ipykernel_31500\\2703393040.py:1: FutureWarning: Series.__getitem__ treating keys as positions is deprecated. In a future version, integer keys will always be treated as labels (consistent with DataFrame behavior). To access a value by position, use `ser.iloc[pos]`\n",
      "  df[\"belongs_to_collection\"][2]\n"
     ]
    },
    {
     "data": {
      "text/plain": [
       "\"{'id': 119050, 'name': 'Grumpy Old Men Collection', 'poster_path': '/nLvUdqgPgm3F85NMCii9gVFUcet.jpg', 'backdrop_path': '/hypTnLot2z8wpFS7qwsQHW1uV8u.jpg'}\""
      ]
     },
     "execution_count": 4,
     "metadata": {},
     "output_type": "execute_result"
    }
   ],
   "source": [
    "df[\"belongs_to_collection\"][2]"
   ]
  },
  {
   "cell_type": "raw",
   "id": "9c18e38b-eadd-45c9-8fc2-5dd147e3d231",
   "metadata": {},
   "source": [
    "for index in range(len(df[\"production_countries\"])):\n",
    "    print(df[\"production_countries\"][index])"
   ]
  },
  {
   "cell_type": "code",
   "execution_count": 13,
   "id": "fad04a2e",
   "metadata": {},
   "outputs": [
    {
     "name": "stdout",
     "output_type": "stream",
     "text": [
      "en,es\n"
     ]
    },
    {
     "name": "stderr",
     "output_type": "stream",
     "text": [
      "C:\\Users\\youss\\AppData\\Local\\Temp\\ipykernel_27256\\2174342177.py:1: FutureWarning: Series.__getitem__ treating keys as positions is deprecated. In a future version, integer keys will always be treated as labels (consistent with DataFrame behavior). To access a value by position, use `ser.iloc[pos]`\n",
      "  print(df[\"spoken_languages\"][200])\n"
     ]
    }
   ],
   "source": [
    "print(df[\"spoken_languages\"][200])"
   ]
  },
  {
   "cell_type": "markdown",
   "id": "0e0eb5c1-d737-4559-91a0-1ff3fd6993d8",
   "metadata": {},
   "source": [
    "## Initial Cleansing Techniques"
   ]
  },
  {
   "cell_type": "code",
   "execution_count": 4,
   "id": "fa1d4863",
   "metadata": {},
   "outputs": [
    {
     "data": {
      "text/plain": [
       "(45449, 23)"
      ]
     },
     "execution_count": 4,
     "metadata": {},
     "output_type": "execute_result"
    }
   ],
   "source": [
    "df.drop_duplicates(inplace=True , ignore_index=False )\n",
    "df.shape"
   ]
  },
  {
   "cell_type": "code",
   "execution_count": 5,
   "id": "2b26b61d",
   "metadata": {},
   "outputs": [
    {
     "data": {
      "text/plain": [
       "(45449, 23)"
      ]
     },
     "execution_count": 5,
     "metadata": {},
     "output_type": "execute_result"
    }
   ],
   "source": [
    "df.dropna(axis = 0 , how=\"all\" , inplace=True)\n",
    "df.dropna(axis = 1 , how=\"all\" , inplace=True)\n",
    "df.shape"
   ]
  },
  {
   "cell_type": "code",
   "execution_count": 6,
   "id": "1c61f9dc",
   "metadata": {},
   "outputs": [],
   "source": [
    "df.drop(axis=1 , columns=[\"id\"  , \"runtime\" ,\"budget\" , \n",
    "                        \"video\" , \"title\" ,\"revenue\" , \n",
    "                        \"vote_count\" , \"original_language\"] , inplace=True)"
   ]
  },
  {
   "cell_type": "markdown",
   "id": "1a2b7242-28f9-4820-aebd-8c67e9271db6",
   "metadata": {},
   "source": [
    "## Functions Deployment"
   ]
  },
  {
   "cell_type": "code",
   "execution_count": 7,
   "id": "025f1791",
   "metadata": {},
   "outputs": [],
   "source": [
    "import ast\n",
    "from tqdm import tqdm\n",
    "# col_header_to_iterate = \"production_countries\"\n",
    "# dict_key = \"iso_3166_1\"\n",
    "def access_json_and_get_dict_value(col_header_to_iterate , dict_key):\n",
    "    for index , row in tqdm(df.iterrows() , total=len(df[col_header_to_iterate])):\n",
    "        #converting string to right types\n",
    "        if pd.isna(row[col_header_to_iterate]):\n",
    "            continue\n",
    "        elif row[col_header_to_iterate]:\n",
    "            try:\n",
    "                record = ast.literal_eval(row[col_header_to_iterate])\n",
    "                if isinstance(record , list):\n",
    "                    if len(record) == 0:\n",
    "                        pass\n",
    "                    else:\n",
    "                        values = \"\"\n",
    "                        for single_element in record:\n",
    "                            if dict_key in single_element:\n",
    "                                values += \",\" + single_element[dict_key]\n",
    "                        #row[header_to_iterate] = countries   #Not updating the record value in df correctly\n",
    "                        df.at[index , col_header_to_iterate] = values[1:]\n",
    "            except (ValueError, SyntaxError) as e:\n",
    "                print(f\"Error parsing row {index}: {e}\")"
   ]
  },
  {
   "cell_type": "code",
   "execution_count": 11,
   "id": "a4d883a7",
   "metadata": {},
   "outputs": [],
   "source": [
    "\n",
    "def access_dict_and_get_dict_value(col_header_to_iterate  , dict_key):\n",
    "    for index , row in tqdm(df.iterrows() , total=len(df[col_header_to_iterate])):\n",
    "        if pd.isna(row[col_header_to_iterate]):\n",
    "            continue\n",
    "        elif row[col_header_to_iterate]:\n",
    "            try:\n",
    "                record = ast.literal_eval(row[col_header_to_iterate])\n",
    "                if isinstance(record , dict):\n",
    "                    if len(record) == 0:\n",
    "                        pass\n",
    "                    else:\n",
    "                        values = \"\"\n",
    "                        values += record[dict_key]\n",
    "                        #row[header_to_iterate] = countries   #Not updating the record value in df correctly\n",
    "                        df.at[index , col_header_to_iterate] = values\n",
    "            except (ValueError, SyntaxError) as e:\n",
    "                print(f\"Error parsing row {index}: {e}\")\n"
   ]
  },
  {
   "cell_type": "markdown",
   "id": "dd09c78d-d29a-45c1-b80d-00b18629f65b",
   "metadata": {},
   "source": [
    "## Functions Calling"
   ]
  },
  {
   "cell_type": "code",
   "execution_count": 8,
   "id": "71ace0dd",
   "metadata": {},
   "outputs": [
    {
     "name": "stderr",
     "output_type": "stream",
     "text": [
      "100%|██████████| 45449/45449 [00:40<00:00, 1128.07it/s]\n"
     ]
    }
   ],
   "source": [
    "access_json_and_get_dict_value(col_header_to_iterate=\"genres\" , dict_key=\"name\")"
   ]
  },
  {
   "cell_type": "code",
   "execution_count": 9,
   "id": "64f03ce1",
   "metadata": {},
   "outputs": [
    {
     "name": "stderr",
     "output_type": "stream",
     "text": [
      "100%|██████████| 45449/45449 [00:34<00:00, 1313.37it/s]\n"
     ]
    }
   ],
   "source": [
    "access_json_and_get_dict_value(col_header_to_iterate=\"production_companies\" , dict_key=\"name\")"
   ]
  },
  {
   "cell_type": "code",
   "execution_count": 21,
   "id": "2aeceb77",
   "metadata": {},
   "outputs": [
    {
     "name": "stderr",
     "output_type": "stream",
     "text": [
      "  0%|          | 0/45449 [00:00<?, ?it/s]"
     ]
    },
    {
     "name": "stderr",
     "output_type": "stream",
     "text": [
      "100%|██████████| 45449/45449 [00:34<00:00, 1305.22it/s]\n"
     ]
    }
   ],
   "source": [
    "access_json_and_get_dict_value(col_header_to_iterate=\"production_countries\" , dict_key=\"iso_3166_1\")"
   ]
  },
  {
   "cell_type": "code",
   "execution_count": 10,
   "id": "1d2468da",
   "metadata": {},
   "outputs": [
    {
     "name": "stderr",
     "output_type": "stream",
     "text": [
      "  0%|          | 0/45449 [00:00<?, ?it/s]"
     ]
    },
    {
     "name": "stderr",
     "output_type": "stream",
     "text": [
      "100%|██████████| 45449/45449 [00:38<00:00, 1165.40it/s]\n"
     ]
    }
   ],
   "source": [
    "access_json_and_get_dict_value(col_header_to_iterate=\"spoken_languages\" , dict_key=\"iso_639_1\")"
   ]
  },
  {
   "cell_type": "code",
   "execution_count": 12,
   "id": "afeab6b5",
   "metadata": {},
   "outputs": [
    {
     "name": "stderr",
     "output_type": "stream",
     "text": [
      "100%|██████████| 45449/45449 [00:05<00:00, 8587.84it/s] \n"
     ]
    }
   ],
   "source": [
    "access_dict_and_get_dict_value(col_header_to_iterate=\"belongs_to_collection\" , dict_key=\"name\")\n"
   ]
  },
  {
   "cell_type": "markdown",
   "id": "616298f3-3f17-4c10-977c-933013cdedf1",
   "metadata": {},
   "source": [
    "## Making New Columns for future use"
   ]
  },
  {
   "cell_type": "code",
   "execution_count": 32,
   "id": "8a546185",
   "metadata": {},
   "outputs": [],
   "source": [
    "df['idmb_url'] = 'https://www.imdb.com/title/' + df.index.astype(str) + '/'\n",
    "df['image_url'] = 'https://image.tmdb.org/t/p/w92' + df['poster_path']"
   ]
  },
  {
   "cell_type": "markdown",
   "id": "a1f5090b-c0fc-4491-985a-f23a61d798d0",
   "metadata": {},
   "source": [
    "## Renaming Columns to easier names"
   ]
  },
  {
   "cell_type": "code",
   "execution_count": 18,
   "id": "85fe1386",
   "metadata": {},
   "outputs": [],
   "source": [
    "df.rename({\"belongs_to_collection\":\"collection\" , \"original_title\":\"title\" } , inplace=True)"
   ]
  },
  {
   "cell_type": "markdown",
   "id": "b953a8af",
   "metadata": {},
   "source": [
    "## Prototypes Functions"
   ]
  },
  {
   "cell_type": "markdown",
   "id": "54268448",
   "metadata": {},
   "source": [
    "import ast\n",
    "from tqdm import tqdm\n",
    "header_to_iterate = \"production_countries\"\n",
    "for index , row in df.iterrows():\n",
    "    #converting string to right types\n",
    "    if pd.isna(row[header_to_iterate]):\n",
    "        continue\n",
    "    elif row[header_to_iterate]:\n",
    "        try:\n",
    "            record = ast.literal_eval(row[header_to_iterate])\n",
    "            if isinstance(record , list):\n",
    "                if len(record) == 0:\n",
    "                    pass\n",
    "                else:\n",
    "                    countries = \"\"\n",
    "                    for single_element in record:\n",
    "                        if \"iso_3166_1\" in single_element:\n",
    "                            countries += \",\" + single_element[\"iso_3166_1\"]\n",
    "                    #row[header_to_iterate] = countries   #Not updating the record value in df correctly\n",
    "                    df.at[index , header_to_iterate] = countries[1:]\n",
    "        except (ValueError, SyntaxError) as e:\n",
    "            print(f\"Error parsing row {index}: {e}\")"
   ]
  },
  {
   "cell_type": "code",
   "execution_count": null,
   "id": "ff2e1446",
   "metadata": {},
   "outputs": [],
   "source": []
  },
  {
   "cell_type": "code",
   "execution_count": 10,
   "id": "4348738b",
   "metadata": {},
   "outputs": [],
   "source": [
    "import sketch"
   ]
  },
  {
   "cell_type": "code",
   "execution_count": null,
   "id": "3cdc5288",
   "metadata": {},
   "outputs": [],
   "source": [
    "#df2.sketch.ask(\"okay as u see what can u reccomend for cleansing these dataset specifically ?\")"
   ]
  }
 ],
 "metadata": {
  "kernelspec": {
   "display_name": "Python 3 (ipykernel)",
   "language": "python",
   "name": "python3"
  },
  "language_info": {
   "codemirror_mode": {
    "name": "ipython",
    "version": 3
   },
   "file_extension": ".py",
   "mimetype": "text/x-python",
   "name": "python",
   "nbconvert_exporter": "python",
   "pygments_lexer": "ipython3",
   "version": "3.12.5"
  }
 },
 "nbformat": 4,
 "nbformat_minor": 5
}
