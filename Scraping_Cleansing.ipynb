{
 "cells": [
  {
   "cell_type": "markdown",
   "id": "779ee71d-1f0a-40fd-b45b-7bf31fb3de93",
   "metadata": {},
   "source": [
    "## Scrapping Dataset"
   ]
  },
  {
   "cell_type": "code",
   "execution_count": 1,
   "id": "d292adfa-15cd-483d-af5b-7463512a3881",
   "metadata": {},
   "outputs": [],
   "source": [
    "import json"
   ]
  },
  {
   "cell_type": "code",
   "execution_count": 2,
   "id": "b73ed02b-3257-46ce-9f06-5a71143bcb8e",
   "metadata": {},
   "outputs": [],
   "source": [
    "import kagglehub\n"
   ]
  },
  {
   "cell_type": "code",
   "execution_count": 3,
   "id": "0319a691-ee82-496a-bbc0-adae56a0488e",
   "metadata": {},
   "outputs": [
    {
     "data": {
      "text/plain": [
       "'C:\\\\Users\\\\youss\\\\.cache\\\\kagglehub\\\\datasets\\\\rounakbanik\\\\the-movies-dataset\\\\versions\\\\7\\\\movies_metadata.csv'"
      ]
     },
     "execution_count": 3,
     "metadata": {},
     "output_type": "execute_result"
    }
   ],
   "source": [
    "kagglehub.dataset_download('rounakbanik/the-movies-dataset' , path = \"movies_metadata.csv\")\n",
    "\n"
   ]
  },
  {
   "cell_type": "markdown",
   "id": "3ea4a053-1e74-426c-8d26-c6efd6834f3c",
   "metadata": {},
   "source": [
    "## Reading Dataset"
   ]
  },
  {
   "cell_type": "code",
   "execution_count": 4,
   "id": "bfb18b70-4409-4b9a-aeb6-cf96e03de90e",
   "metadata": {},
   "outputs": [],
   "source": [
    "import pandas as pd"
   ]
  },
  {
   "cell_type": "code",
   "execution_count": 5,
   "id": "88c8f2cf-2153-47a9-bc4a-e155546bfc92",
   "metadata": {},
   "outputs": [],
   "source": [
    "df = pd.read_csv(r\".\\datasets\\movies_metadata.csv\" , low_memory=False , index_col = \"imdb_id\")"
   ]
  },
  {
   "cell_type": "markdown",
   "id": "a1683b24-c29e-4be3-8a2a-1769c80bd62d",
   "metadata": {},
   "source": [
    "## A Glimpse On the Data"
   ]
  },
  {
   "cell_type": "code",
   "execution_count": 6,
   "id": "b4e397b8-393a-42ab-b7aa-8de40de8c22b",
   "metadata": {},
   "outputs": [
    {
     "data": {
      "text/html": [
       "<div>\n",
       "<style scoped>\n",
       "    .dataframe tbody tr th:only-of-type {\n",
       "        vertical-align: middle;\n",
       "    }\n",
       "\n",
       "    .dataframe tbody tr th {\n",
       "        vertical-align: top;\n",
       "    }\n",
       "\n",
       "    .dataframe thead th {\n",
       "        text-align: right;\n",
       "    }\n",
       "</style>\n",
       "<table border=\"1\" class=\"dataframe\">\n",
       "  <thead>\n",
       "    <tr style=\"text-align: right;\">\n",
       "      <th></th>\n",
       "      <th>adult</th>\n",
       "      <th>belongs_to_collection</th>\n",
       "      <th>budget</th>\n",
       "      <th>genres</th>\n",
       "      <th>homepage</th>\n",
       "      <th>id</th>\n",
       "      <th>original_language</th>\n",
       "      <th>original_title</th>\n",
       "      <th>overview</th>\n",
       "      <th>popularity</th>\n",
       "      <th>...</th>\n",
       "      <th>release_date</th>\n",
       "      <th>revenue</th>\n",
       "      <th>runtime</th>\n",
       "      <th>spoken_languages</th>\n",
       "      <th>status</th>\n",
       "      <th>tagline</th>\n",
       "      <th>title</th>\n",
       "      <th>video</th>\n",
       "      <th>vote_average</th>\n",
       "      <th>vote_count</th>\n",
       "    </tr>\n",
       "    <tr>\n",
       "      <th>imdb_id</th>\n",
       "      <th></th>\n",
       "      <th></th>\n",
       "      <th></th>\n",
       "      <th></th>\n",
       "      <th></th>\n",
       "      <th></th>\n",
       "      <th></th>\n",
       "      <th></th>\n",
       "      <th></th>\n",
       "      <th></th>\n",
       "      <th></th>\n",
       "      <th></th>\n",
       "      <th></th>\n",
       "      <th></th>\n",
       "      <th></th>\n",
       "      <th></th>\n",
       "      <th></th>\n",
       "      <th></th>\n",
       "      <th></th>\n",
       "      <th></th>\n",
       "      <th></th>\n",
       "    </tr>\n",
       "  </thead>\n",
       "  <tbody>\n",
       "    <tr>\n",
       "      <th>tt0114709</th>\n",
       "      <td>False</td>\n",
       "      <td>{'id': 10194, 'name': 'Toy Story Collection', ...</td>\n",
       "      <td>30000000</td>\n",
       "      <td>[{'id': 16, 'name': 'Animation'}, {'id': 35, '...</td>\n",
       "      <td>http://toystory.disney.com/toy-story</td>\n",
       "      <td>862</td>\n",
       "      <td>en</td>\n",
       "      <td>Toy Story</td>\n",
       "      <td>Led by Woody, Andy's toys live happily in his ...</td>\n",
       "      <td>21.946943</td>\n",
       "      <td>...</td>\n",
       "      <td>1995-10-30</td>\n",
       "      <td>373554033.0</td>\n",
       "      <td>81.0</td>\n",
       "      <td>[{'iso_639_1': 'en', 'name': 'English'}]</td>\n",
       "      <td>Released</td>\n",
       "      <td>NaN</td>\n",
       "      <td>Toy Story</td>\n",
       "      <td>False</td>\n",
       "      <td>7.7</td>\n",
       "      <td>5415.0</td>\n",
       "    </tr>\n",
       "    <tr>\n",
       "      <th>tt0113497</th>\n",
       "      <td>False</td>\n",
       "      <td>NaN</td>\n",
       "      <td>65000000</td>\n",
       "      <td>[{'id': 12, 'name': 'Adventure'}, {'id': 14, '...</td>\n",
       "      <td>NaN</td>\n",
       "      <td>8844</td>\n",
       "      <td>en</td>\n",
       "      <td>Jumanji</td>\n",
       "      <td>When siblings Judy and Peter discover an encha...</td>\n",
       "      <td>17.015539</td>\n",
       "      <td>...</td>\n",
       "      <td>1995-12-15</td>\n",
       "      <td>262797249.0</td>\n",
       "      <td>104.0</td>\n",
       "      <td>[{'iso_639_1': 'en', 'name': 'English'}, {'iso...</td>\n",
       "      <td>Released</td>\n",
       "      <td>Roll the dice and unleash the excitement!</td>\n",
       "      <td>Jumanji</td>\n",
       "      <td>False</td>\n",
       "      <td>6.9</td>\n",
       "      <td>2413.0</td>\n",
       "    </tr>\n",
       "    <tr>\n",
       "      <th>tt0113228</th>\n",
       "      <td>False</td>\n",
       "      <td>{'id': 119050, 'name': 'Grumpy Old Men Collect...</td>\n",
       "      <td>0</td>\n",
       "      <td>[{'id': 10749, 'name': 'Romance'}, {'id': 35, ...</td>\n",
       "      <td>NaN</td>\n",
       "      <td>15602</td>\n",
       "      <td>en</td>\n",
       "      <td>Grumpier Old Men</td>\n",
       "      <td>A family wedding reignites the ancient feud be...</td>\n",
       "      <td>11.7129</td>\n",
       "      <td>...</td>\n",
       "      <td>1995-12-22</td>\n",
       "      <td>0.0</td>\n",
       "      <td>101.0</td>\n",
       "      <td>[{'iso_639_1': 'en', 'name': 'English'}]</td>\n",
       "      <td>Released</td>\n",
       "      <td>Still Yelling. Still Fighting. Still Ready for...</td>\n",
       "      <td>Grumpier Old Men</td>\n",
       "      <td>False</td>\n",
       "      <td>6.5</td>\n",
       "      <td>92.0</td>\n",
       "    </tr>\n",
       "    <tr>\n",
       "      <th>tt0114885</th>\n",
       "      <td>False</td>\n",
       "      <td>NaN</td>\n",
       "      <td>16000000</td>\n",
       "      <td>[{'id': 35, 'name': 'Comedy'}, {'id': 18, 'nam...</td>\n",
       "      <td>NaN</td>\n",
       "      <td>31357</td>\n",
       "      <td>en</td>\n",
       "      <td>Waiting to Exhale</td>\n",
       "      <td>Cheated on, mistreated and stepped on, the wom...</td>\n",
       "      <td>3.859495</td>\n",
       "      <td>...</td>\n",
       "      <td>1995-12-22</td>\n",
       "      <td>81452156.0</td>\n",
       "      <td>127.0</td>\n",
       "      <td>[{'iso_639_1': 'en', 'name': 'English'}]</td>\n",
       "      <td>Released</td>\n",
       "      <td>Friends are the people who let you be yourself...</td>\n",
       "      <td>Waiting to Exhale</td>\n",
       "      <td>False</td>\n",
       "      <td>6.1</td>\n",
       "      <td>34.0</td>\n",
       "    </tr>\n",
       "    <tr>\n",
       "      <th>tt0113041</th>\n",
       "      <td>False</td>\n",
       "      <td>{'id': 96871, 'name': 'Father of the Bride Col...</td>\n",
       "      <td>0</td>\n",
       "      <td>[{'id': 35, 'name': 'Comedy'}]</td>\n",
       "      <td>NaN</td>\n",
       "      <td>11862</td>\n",
       "      <td>en</td>\n",
       "      <td>Father of the Bride Part II</td>\n",
       "      <td>Just when George Banks has recovered from his ...</td>\n",
       "      <td>8.387519</td>\n",
       "      <td>...</td>\n",
       "      <td>1995-02-10</td>\n",
       "      <td>76578911.0</td>\n",
       "      <td>106.0</td>\n",
       "      <td>[{'iso_639_1': 'en', 'name': 'English'}]</td>\n",
       "      <td>Released</td>\n",
       "      <td>Just When His World Is Back To Normal... He's ...</td>\n",
       "      <td>Father of the Bride Part II</td>\n",
       "      <td>False</td>\n",
       "      <td>5.7</td>\n",
       "      <td>173.0</td>\n",
       "    </tr>\n",
       "  </tbody>\n",
       "</table>\n",
       "<p>5 rows × 23 columns</p>\n",
       "</div>"
      ],
      "text/plain": [
       "           adult                              belongs_to_collection    budget  \\\n",
       "imdb_id                                                                         \n",
       "tt0114709  False  {'id': 10194, 'name': 'Toy Story Collection', ...  30000000   \n",
       "tt0113497  False                                                NaN  65000000   \n",
       "tt0113228  False  {'id': 119050, 'name': 'Grumpy Old Men Collect...         0   \n",
       "tt0114885  False                                                NaN  16000000   \n",
       "tt0113041  False  {'id': 96871, 'name': 'Father of the Bride Col...         0   \n",
       "\n",
       "                                                      genres  \\\n",
       "imdb_id                                                        \n",
       "tt0114709  [{'id': 16, 'name': 'Animation'}, {'id': 35, '...   \n",
       "tt0113497  [{'id': 12, 'name': 'Adventure'}, {'id': 14, '...   \n",
       "tt0113228  [{'id': 10749, 'name': 'Romance'}, {'id': 35, ...   \n",
       "tt0114885  [{'id': 35, 'name': 'Comedy'}, {'id': 18, 'nam...   \n",
       "tt0113041                     [{'id': 35, 'name': 'Comedy'}]   \n",
       "\n",
       "                                       homepage     id original_language  \\\n",
       "imdb_id                                                                    \n",
       "tt0114709  http://toystory.disney.com/toy-story    862                en   \n",
       "tt0113497                                   NaN   8844                en   \n",
       "tt0113228                                   NaN  15602                en   \n",
       "tt0114885                                   NaN  31357                en   \n",
       "tt0113041                                   NaN  11862                en   \n",
       "\n",
       "                        original_title  \\\n",
       "imdb_id                                  \n",
       "tt0114709                    Toy Story   \n",
       "tt0113497                      Jumanji   \n",
       "tt0113228             Grumpier Old Men   \n",
       "tt0114885            Waiting to Exhale   \n",
       "tt0113041  Father of the Bride Part II   \n",
       "\n",
       "                                                    overview popularity  ...  \\\n",
       "imdb_id                                                                  ...   \n",
       "tt0114709  Led by Woody, Andy's toys live happily in his ...  21.946943  ...   \n",
       "tt0113497  When siblings Judy and Peter discover an encha...  17.015539  ...   \n",
       "tt0113228  A family wedding reignites the ancient feud be...    11.7129  ...   \n",
       "tt0114885  Cheated on, mistreated and stepped on, the wom...   3.859495  ...   \n",
       "tt0113041  Just when George Banks has recovered from his ...   8.387519  ...   \n",
       "\n",
       "          release_date      revenue runtime  \\\n",
       "imdb_id                                       \n",
       "tt0114709   1995-10-30  373554033.0    81.0   \n",
       "tt0113497   1995-12-15  262797249.0   104.0   \n",
       "tt0113228   1995-12-22          0.0   101.0   \n",
       "tt0114885   1995-12-22   81452156.0   127.0   \n",
       "tt0113041   1995-02-10   76578911.0   106.0   \n",
       "\n",
       "                                            spoken_languages    status  \\\n",
       "imdb_id                                                                  \n",
       "tt0114709           [{'iso_639_1': 'en', 'name': 'English'}]  Released   \n",
       "tt0113497  [{'iso_639_1': 'en', 'name': 'English'}, {'iso...  Released   \n",
       "tt0113228           [{'iso_639_1': 'en', 'name': 'English'}]  Released   \n",
       "tt0114885           [{'iso_639_1': 'en', 'name': 'English'}]  Released   \n",
       "tt0113041           [{'iso_639_1': 'en', 'name': 'English'}]  Released   \n",
       "\n",
       "                                                     tagline  \\\n",
       "imdb_id                                                        \n",
       "tt0114709                                                NaN   \n",
       "tt0113497          Roll the dice and unleash the excitement!   \n",
       "tt0113228  Still Yelling. Still Fighting. Still Ready for...   \n",
       "tt0114885  Friends are the people who let you be yourself...   \n",
       "tt0113041  Just When His World Is Back To Normal... He's ...   \n",
       "\n",
       "                                 title  video vote_average vote_count  \n",
       "imdb_id                                                                \n",
       "tt0114709                    Toy Story  False          7.7     5415.0  \n",
       "tt0113497                      Jumanji  False          6.9     2413.0  \n",
       "tt0113228             Grumpier Old Men  False          6.5       92.0  \n",
       "tt0114885            Waiting to Exhale  False          6.1       34.0  \n",
       "tt0113041  Father of the Bride Part II  False          5.7      173.0  \n",
       "\n",
       "[5 rows x 23 columns]"
      ]
     },
     "execution_count": 6,
     "metadata": {},
     "output_type": "execute_result"
    }
   ],
   "source": [
    "df.head()\n"
   ]
  },
  {
   "cell_type": "code",
   "execution_count": 7,
   "id": "b031de8a-8ecb-4c25-a0f8-732f3931b61f",
   "metadata": {},
   "outputs": [
    {
     "data": {
      "text/plain": [
       "(45466, 23)"
      ]
     },
     "execution_count": 7,
     "metadata": {},
     "output_type": "execute_result"
    }
   ],
   "source": [
    "df.shape"
   ]
  },
  {
   "cell_type": "code",
   "execution_count": 8,
   "id": "ba2fe827-51cd-4542-b678-b4c46bf16771",
   "metadata": {},
   "outputs": [
    {
     "name": "stdout",
     "output_type": "stream",
     "text": [
      "<class 'pandas.core.frame.DataFrame'>\n",
      "Index: 45466 entries, tt0114709 to tt6980792\n",
      "Data columns (total 23 columns):\n",
      " #   Column                 Non-Null Count  Dtype  \n",
      "---  ------                 --------------  -----  \n",
      " 0   adult                  45466 non-null  object \n",
      " 1   belongs_to_collection  4494 non-null   object \n",
      " 2   budget                 45466 non-null  object \n",
      " 3   genres                 45466 non-null  object \n",
      " 4   homepage               7782 non-null   object \n",
      " 5   id                     45466 non-null  object \n",
      " 6   original_language      45455 non-null  object \n",
      " 7   original_title         45466 non-null  object \n",
      " 8   overview               44512 non-null  object \n",
      " 9   popularity             45461 non-null  object \n",
      " 10  poster_path            45080 non-null  object \n",
      " 11  production_companies   45463 non-null  object \n",
      " 12  production_countries   45463 non-null  object \n",
      " 13  release_date           45379 non-null  object \n",
      " 14  revenue                45460 non-null  float64\n",
      " 15  runtime                45203 non-null  float64\n",
      " 16  spoken_languages       45460 non-null  object \n",
      " 17  status                 45379 non-null  object \n",
      " 18  tagline                20412 non-null  object \n",
      " 19  title                  45460 non-null  object \n",
      " 20  video                  45460 non-null  object \n",
      " 21  vote_average           45460 non-null  float64\n",
      " 22  vote_count             45460 non-null  float64\n",
      "dtypes: float64(4), object(19)\n",
      "memory usage: 8.3+ MB\n"
     ]
    }
   ],
   "source": [
    "df.info()"
   ]
  },
  {
   "cell_type": "code",
   "execution_count": 9,
   "id": "3a1f4ece",
   "metadata": {},
   "outputs": [
    {
     "data": {
      "text/plain": [
       "adult                        0\n",
       "belongs_to_collection    40972\n",
       "budget                       0\n",
       "genres                       0\n",
       "homepage                 37684\n",
       "id                           0\n",
       "original_language           11\n",
       "original_title               0\n",
       "overview                   954\n",
       "popularity                   5\n",
       "poster_path                386\n",
       "production_companies         3\n",
       "production_countries         3\n",
       "release_date                87\n",
       "revenue                      6\n",
       "runtime                    263\n",
       "spoken_languages             6\n",
       "status                      87\n",
       "tagline                  25054\n",
       "title                        6\n",
       "video                        6\n",
       "vote_average                 6\n",
       "vote_count                   6\n",
       "dtype: int64"
      ]
     },
     "execution_count": 9,
     "metadata": {},
     "output_type": "execute_result"
    }
   ],
   "source": [
    "df.isna().sum()"
   ]
  },
  {
   "cell_type": "code",
   "execution_count": 10,
   "id": "863f8cf5",
   "metadata": {},
   "outputs": [
    {
     "data": {
      "text/plain": [
       "Index(['adult', 'belongs_to_collection', 'budget', 'genres', 'homepage', 'id',\n",
       "       'original_language', 'original_title', 'overview', 'popularity',\n",
       "       'poster_path', 'production_companies', 'production_countries',\n",
       "       'release_date', 'revenue', 'runtime', 'spoken_languages', 'status',\n",
       "       'tagline', 'title', 'video', 'vote_average', 'vote_count'],\n",
       "      dtype='object')"
      ]
     },
     "execution_count": 10,
     "metadata": {},
     "output_type": "execute_result"
    }
   ],
   "source": [
    "df.columns"
   ]
  },
  {
   "cell_type": "markdown",
   "id": "01994976-eaeb-4290-9999-21e0b753d78a",
   "metadata": {},
   "source": [
    "## Custom Review to random records"
   ]
  },
  {
   "cell_type": "code",
   "execution_count": 11,
   "id": "d9dc6cce",
   "metadata": {},
   "outputs": [
    {
     "name": "stderr",
     "output_type": "stream",
     "text": [
      "C:\\Users\\youss\\AppData\\Local\\Temp\\ipykernel_23548\\2703393040.py:1: FutureWarning: Series.__getitem__ treating keys as positions is deprecated. In a future version, integer keys will always be treated as labels (consistent with DataFrame behavior). To access a value by position, use `ser.iloc[pos]`\n",
      "  df[\"belongs_to_collection\"][2]\n"
     ]
    },
    {
     "data": {
      "text/plain": [
       "\"{'id': 119050, 'name': 'Grumpy Old Men Collection', 'poster_path': '/nLvUdqgPgm3F85NMCii9gVFUcet.jpg', 'backdrop_path': '/hypTnLot2z8wpFS7qwsQHW1uV8u.jpg'}\""
      ]
     },
     "execution_count": 11,
     "metadata": {},
     "output_type": "execute_result"
    }
   ],
   "source": [
    "df[\"belongs_to_collection\"][2]"
   ]
  },
  {
   "cell_type": "raw",
   "id": "9c18e38b-eadd-45c9-8fc2-5dd147e3d231",
   "metadata": {},
   "source": [
    "for index in range(len(df[\"production_countries\"])):\n",
    "    print(df[\"production_countries\"][index])"
   ]
  },
  {
   "cell_type": "code",
   "execution_count": 12,
   "id": "fad04a2e",
   "metadata": {},
   "outputs": [
    {
     "name": "stdout",
     "output_type": "stream",
     "text": [
      "[{'iso_639_1': 'en', 'name': 'English'}, {'iso_639_1': 'es', 'name': 'Español'}]\n"
     ]
    },
    {
     "name": "stderr",
     "output_type": "stream",
     "text": [
      "C:\\Users\\youss\\AppData\\Local\\Temp\\ipykernel_23548\\2174342177.py:1: FutureWarning: Series.__getitem__ treating keys as positions is deprecated. In a future version, integer keys will always be treated as labels (consistent with DataFrame behavior). To access a value by position, use `ser.iloc[pos]`\n",
      "  print(df[\"spoken_languages\"][200])\n"
     ]
    }
   ],
   "source": [
    "print(df[\"spoken_languages\"][200])"
   ]
  },
  {
   "cell_type": "markdown",
   "id": "0e0eb5c1-d737-4559-91a0-1ff3fd6993d8",
   "metadata": {},
   "source": [
    "## Initial Cleansing Techniques"
   ]
  },
  {
   "cell_type": "code",
   "execution_count": 13,
   "id": "fa1d4863",
   "metadata": {},
   "outputs": [
    {
     "data": {
      "text/plain": [
       "(45449, 23)"
      ]
     },
     "execution_count": 13,
     "metadata": {},
     "output_type": "execute_result"
    }
   ],
   "source": [
    "df.drop_duplicates(inplace=True , ignore_index=False )\n",
    "df.shape"
   ]
  },
  {
   "cell_type": "code",
   "execution_count": 14,
   "id": "2b26b61d",
   "metadata": {},
   "outputs": [
    {
     "data": {
      "text/plain": [
       "(45449, 23)"
      ]
     },
     "execution_count": 14,
     "metadata": {},
     "output_type": "execute_result"
    }
   ],
   "source": [
    "df.dropna(axis = 0 , how=\"all\" , inplace=True)\n",
    "df.dropna(axis = 1 , how=\"all\" , inplace=True)\n",
    "df.shape"
   ]
  },
  {
   "cell_type": "code",
   "execution_count": 15,
   "id": "1c61f9dc",
   "metadata": {},
   "outputs": [],
   "source": [
    "df.drop(axis=1 , columns=[\"id\"  , \"runtime\" ,\"budget\" , \n",
    "                        \"video\" , \"title\" ,\"revenue\" , \n",
    "                        \"vote_count\" , \"original_language\"] , inplace=True)"
   ]
  },
  {
   "cell_type": "markdown",
   "id": "1a2b7242-28f9-4820-aebd-8c67e9271db6",
   "metadata": {},
   "source": [
    "## Functions Deployment"
   ]
  },
  {
   "cell_type": "code",
   "execution_count": 16,
   "id": "025f1791",
   "metadata": {},
   "outputs": [],
   "source": [
    "import ast\n",
    "from tqdm import tqdm\n",
    "# col_header_to_iterate = \"production_countries\"\n",
    "# dict_key = \"iso_3166_1\"\n",
    "def access_json_and_get_dict_value(col_header_to_iterate , dict_key):\n",
    "    for index , row in tqdm(df.iterrows() , total=len(df[col_header_to_iterate])):\n",
    "        #converting string to right types\n",
    "        if pd.isna(row[col_header_to_iterate]):\n",
    "            continue\n",
    "        elif row[col_header_to_iterate]:\n",
    "            try:\n",
    "                record = ast.literal_eval(row[col_header_to_iterate])\n",
    "                if isinstance(record , list):\n",
    "                    if len(record) == 0:\n",
    "                        pass\n",
    "                    else:\n",
    "                        values = \"\"\n",
    "                        for single_element in record:\n",
    "                            if dict_key in single_element:\n",
    "                                values += \",\" + single_element[dict_key]\n",
    "                        #row[header_to_iterate] = countries   #Not updating the record value in df correctly\n",
    "                        df.at[index , col_header_to_iterate] = values[1:]\n",
    "            except (ValueError, SyntaxError) as e:\n",
    "                print(f\"Error parsing row {index}: {e}\")"
   ]
  },
  {
   "cell_type": "code",
   "execution_count": 17,
   "id": "a4d883a7",
   "metadata": {},
   "outputs": [],
   "source": [
    "\n",
    "def access_dict_and_get_dict_value(col_header_to_iterate  , dict_key):\n",
    "    for index , row in tqdm(df.iterrows() , total=len(df[col_header_to_iterate])):\n",
    "        if pd.isna(row[col_header_to_iterate]):\n",
    "            continue\n",
    "        elif row[col_header_to_iterate]:\n",
    "            try:\n",
    "                record = ast.literal_eval(row[col_header_to_iterate])\n",
    "                if isinstance(record , dict):\n",
    "                    if len(record) == 0:\n",
    "                        pass\n",
    "                    else:\n",
    "                        values = \"\"\n",
    "                        values += record[dict_key]\n",
    "                        #row[header_to_iterate] = countries   #Not updating the record value in df correctly\n",
    "                        df.at[index , col_header_to_iterate] = values\n",
    "            except (ValueError, SyntaxError) as e:\n",
    "                print(f\"Error parsing row {index}: {e}\")\n"
   ]
  },
  {
   "cell_type": "markdown",
   "id": "dd09c78d-d29a-45c1-b80d-00b18629f65b",
   "metadata": {},
   "source": [
    "## Functions Calling"
   ]
  },
  {
   "cell_type": "code",
   "execution_count": 18,
   "id": "71ace0dd",
   "metadata": {},
   "outputs": [
    {
     "name": "stderr",
     "output_type": "stream",
     "text": [
      "100%|███████████████████████████████████████████████████████████████████████████| 45449/45449 [00:51<00:00, 887.77it/s]\n"
     ]
    }
   ],
   "source": [
    "access_json_and_get_dict_value(col_header_to_iterate=\"genres\" , dict_key=\"name\")"
   ]
  },
  {
   "cell_type": "code",
   "execution_count": 19,
   "id": "64f03ce1",
   "metadata": {},
   "outputs": [
    {
     "name": "stderr",
     "output_type": "stream",
     "text": [
      "100%|██████████████████████████████████████████████████████████████████████████| 45449/45449 [00:41<00:00, 1088.78it/s]\n"
     ]
    }
   ],
   "source": [
    "access_json_and_get_dict_value(col_header_to_iterate=\"production_companies\" , dict_key=\"name\")"
   ]
  },
  {
   "cell_type": "code",
   "execution_count": 20,
   "id": "2aeceb77",
   "metadata": {},
   "outputs": [
    {
     "name": "stderr",
     "output_type": "stream",
     "text": [
      "100%|██████████████████████████████████████████████████████████████████████████| 45449/45449 [00:44<00:00, 1014.65it/s]\n"
     ]
    }
   ],
   "source": [
    "access_json_and_get_dict_value(col_header_to_iterate=\"production_countries\" , dict_key=\"iso_3166_1\")"
   ]
  },
  {
   "cell_type": "code",
   "execution_count": 21,
   "id": "1d2468da",
   "metadata": {},
   "outputs": [
    {
     "name": "stderr",
     "output_type": "stream",
     "text": [
      "100%|███████████████████████████████████████████████████████████████████████████| 45449/45449 [00:45<00:00, 990.84it/s]\n"
     ]
    }
   ],
   "source": [
    "access_json_and_get_dict_value(col_header_to_iterate=\"spoken_languages\" , dict_key=\"iso_639_1\")"
   ]
  },
  {
   "cell_type": "code",
   "execution_count": 22,
   "id": "afeab6b5",
   "metadata": {},
   "outputs": [
    {
     "name": "stderr",
     "output_type": "stream",
     "text": [
      "100%|██████████████████████████████████████████████████████████████████████████| 45449/45449 [00:06<00:00, 7354.13it/s]\n"
     ]
    }
   ],
   "source": [
    "access_dict_and_get_dict_value(col_header_to_iterate=\"belongs_to_collection\" , dict_key=\"name\")\n"
   ]
  },
  {
   "cell_type": "markdown",
   "id": "616298f3-3f17-4c10-977c-933013cdedf1",
   "metadata": {},
   "source": [
    "## Making New Columns for future use"
   ]
  },
  {
   "cell_type": "code",
   "execution_count": 23,
   "id": "8a546185",
   "metadata": {},
   "outputs": [],
   "source": [
    "df['idmb_url'] = 'https://www.imdb.com/title/' + df.index.astype(str) + '/'\n",
    "df['image_url'] = 'https://image.tmdb.org/t/p/w92' + df['poster_path']"
   ]
  },
  {
   "cell_type": "markdown",
   "id": "a1f5090b-c0fc-4491-985a-f23a61d798d0",
   "metadata": {},
   "source": [
    "## Renaming Columns to easier names"
   ]
  },
  {
   "cell_type": "code",
   "execution_count": 24,
   "id": "85fe1386",
   "metadata": {},
   "outputs": [],
   "source": [
    "df.rename({\"belongs_to_collection\":\"collection\" , \"original_title\":\"title\" } , inplace=True)"
   ]
  },
  {
   "cell_type": "markdown",
   "id": "0389f729-7152-4334-81b8-7ced08e9b9d8",
   "metadata": {},
   "source": [
    "## Exporting Cleansed Data to a CSV file"
   ]
  },
  {
   "cell_type": "code",
   "execution_count": 25,
   "id": "31c02ad8-a5f7-4998-a401-bdb2f34dcd61",
   "metadata": {},
   "outputs": [],
   "source": [
    "df.to_csv(r\"./datasets/cleansed_prepared.csv\" , index=False)"
   ]
  },
  {
   "cell_type": "markdown",
   "id": "b953a8af",
   "metadata": {},
   "source": [
    "## Prototypes Functions"
   ]
  },
  {
   "cell_type": "markdown",
   "id": "54268448",
   "metadata": {},
   "source": [
    "import ast\n",
    "from tqdm import tqdm\n",
    "header_to_iterate = \"production_countries\"\n",
    "for index , row in df.iterrows():\n",
    "    #converting string to right types\n",
    "    if pd.isna(row[header_to_iterate]):\n",
    "        continue\n",
    "    elif row[header_to_iterate]:\n",
    "        try:\n",
    "            record = ast.literal_eval(row[header_to_iterate])\n",
    "            if isinstance(record , list):\n",
    "                if len(record) == 0:\n",
    "                    pass\n",
    "                else:\n",
    "                    countries = \"\"\n",
    "                    for single_element in record:\n",
    "                        if \"iso_3166_1\" in single_element:\n",
    "                            countries += \",\" + single_element[\"iso_3166_1\"]\n",
    "                    #row[header_to_iterate] = countries   #Not updating the record value in df correctly\n",
    "                    df.at[index , header_to_iterate] = countries[1:]\n",
    "        except (ValueError, SyntaxError) as e:\n",
    "            print(f\"Error parsing row {index}: {e}\")"
   ]
  },
  {
   "cell_type": "raw",
   "id": "9d61f1df-b7fa-4eb7-8a2c-99ce4b03343b",
   "metadata": {},
   "source": [
    "import sketch"
   ]
  },
  {
   "cell_type": "raw",
   "id": "b8ed9830-5287-4e99-ac1a-d53d8b89eaed",
   "metadata": {},
   "source": [
    "df.sketch.ask(\"okay as u see what can u reccomend for cleansing these dataset specifically ?\")"
   ]
  },
  {
   "cell_type": "raw",
   "id": "8a2f80e4-a18a-4b6c-a862-f1cad06960bd",
   "metadata": {},
   "source": []
  }
 ],
 "metadata": {
  "kernelspec": {
   "display_name": "Python 3 (ipykernel)",
   "language": "python",
   "name": "python3"
  },
  "language_info": {
   "codemirror_mode": {
    "name": "ipython",
    "version": 3
   },
   "file_extension": ".py",
   "mimetype": "text/x-python",
   "name": "python",
   "nbconvert_exporter": "python",
   "pygments_lexer": "ipython3",
   "version": "3.12.5"
  }
 },
 "nbformat": 4,
 "nbformat_minor": 5
}
